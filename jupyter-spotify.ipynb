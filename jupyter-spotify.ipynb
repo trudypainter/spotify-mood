{
 "cells": [
  {
   "cell_type": "code",
   "execution_count": 8,
   "metadata": {},
   "outputs": [
    {
     "name": "stdout",
     "output_type": "stream",
     "text": [
      "81\n",
      "69\n"
     ]
    }
   ],
   "source": [
    "#editing duplicates from daylight savings\n",
    "import csv\n",
    "\n",
    "with open('daily-data/2021-01-28.csv') as csv_file:\n",
    "    csv_reader = csv.reader(csv_file, delimiter=',')\n",
    "    \n",
    "    line_count=0\n",
    "    times_played_list = []\n",
    "    non_duplicates = []\n",
    "    \n",
    "    for row in csv_reader:\n",
    "        \n",
    "        time_played = row[5]\n",
    "        line_count+=1\n",
    "        \n",
    "        if time_played not in times_played_list:\n",
    "            \n",
    "            non_duplicates.append(row)\n",
    "            times_played_list.append(time_played)\n",
    "    \n",
    "    print(line_count)\n",
    "    print(len(non_duplicates))   \n"
   ]
  },
  {
   "cell_type": "code",
   "execution_count": null,
   "metadata": {},
   "outputs": [],
   "source": [
    "\n",
    "with open('employee_file.csv', mode='w') as employee_file:\n",
    "    employee_writer = csv.writer(employee_file, delimiter=',', quotechar='\"', quoting=csv.QUOTE_MINIMAL)\n",
    "\n",
    "    employee_writer.writerow(['John Smith', 'Accounting', 'November'])\n",
    "    employee_writer.writerow(['Erica Meyers', 'IT', 'March'])"
   ]
  }
 ],
 "metadata": {
  "kernelspec": {
   "display_name": "Python 3",
   "language": "python",
   "name": "python3"
  },
  "language_info": {
   "codemirror_mode": {
    "name": "ipython",
    "version": 3
   },
   "file_extension": ".py",
   "mimetype": "text/x-python",
   "name": "python",
   "nbconvert_exporter": "python",
   "pygments_lexer": "ipython3",
   "version": "3.7.6"
  }
 },
 "nbformat": 4,
 "nbformat_minor": 4
}
