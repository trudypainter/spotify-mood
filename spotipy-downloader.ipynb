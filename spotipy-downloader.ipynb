{
 "cells": [
  {
   "cell_type": "code",
   "execution_count": 106,
   "metadata": {},
   "outputs": [],
   "source": [
    "import spotipy\n",
    "import spotipy.util as util\n",
    "sp = spotipy.Spotify() \n",
    "from spotipy.oauth2 import SpotifyClientCredentials\n",
    "\n",
    "from datetime import datetime\n",
    "from datetime import timedelta\n",
    "\n",
    "import pandas as pd"
   ]
  },
  {
   "cell_type": "markdown",
   "metadata": {},
   "source": [
    "## spotify auth flow"
   ]
  },
  {
   "cell_type": "code",
   "execution_count": 107,
   "metadata": {},
   "outputs": [],
   "source": [
    "cid =\"1c7e8aed94914da78a7b264590d7fc21\" \n",
    "secret = \"c2113b0c6e3543d282adb8c61e4abede\"\n",
    "username = \"trudypaintet\"\n",
    "redirect_uri=\"http://localhost:3000\"\n",
    "\n",
    "client_credentials_manager = SpotifyClientCredentials(client_id=cid, client_secret=secret) \n",
    "sp = spotipy.Spotify(client_credentials_manager=client_credentials_manager)\n",
    "\n",
    "scope = 'user-read-recently-played'\n",
    "token = util.prompt_for_user_token(username,scope,cid,secret,redirect_uri)\n",
    "if token:\n",
    "    sp = spotipy.Spotify(auth=token)\n",
    "else:\n",
    "    print(\"Can't get token for\", username)"
   ]
  },
  {
   "cell_type": "markdown",
   "metadata": {},
   "source": [
    "## download recently played songs\n",
    "1. collect songs info\n",
    "    - name, id, time played\n",
    "2. filter for UNINDEXED songs from TODAY\n",
    "    - script will run every hour and add new entries to a csv for the date"
   ]
  },
  {
   "cell_type": "code",
   "execution_count": 122,
   "metadata": {},
   "outputs": [],
   "source": [
    "recent_songs = sp.current_user_recently_played()\n",
    "\n",
    "count = 0\n",
    "track_ids = []\n",
    "mood_avgs = []\n",
    "\n",
    "#creating data frame to add to the csv\n",
    "song_dict = {'image':[],\n",
    "    'song_name': [],\n",
    "             'album_name':[],\n",
    "        'artist_name': [],\n",
    "        'track_id':[],\n",
    "        'played_at':[],\n",
    "        'valence':[],\n",
    "        'danceability':[],\n",
    "        'energy':[],\n",
    "        'mood_avg':[]}\n",
    "\n",
    "for song in recent_songs[\"items\"]:\n",
    "    \n",
    "    #break out of loop if the song was not played in the last hour\n",
    "    time_played = datetime.strptime(song[\"played_at\"],\"%Y-%m-%dT%H:%M:%S.%fZ\")\n",
    "    time_elapsed = time_played - datetime.now() \n",
    "    if time_elapsed < timedelta(hours=3, minutes=1):\n",
    "        break\n",
    "    \n",
    "    #spotify has weird hours/time zone going on\n",
    "    #and i need to make it pretty for the table\n",
    "    adjusted_played_at = time_played - timedelta(hours=4)\n",
    "    readable_time = adjusted_played_at.strftime(\"%H\") + \":\" + adjusted_played_at.strftime(\"%M\")\n",
    "    \n",
    "    count+=1\n",
    "    \n",
    "    features = sp.audio_features(song[\"track\"][\"id\"])\n",
    "    valence = float(features[0][\"valence\"])\n",
    "    dance = float(features[0][\"danceability\"])\n",
    "    energy = float(features[0][\"energy\"])\n",
    "    avg = (valence*0.4) + (dance*0.4) + (energy*0.2)\n",
    "    mood_avgs.append(avg)\n",
    "    \n",
    "    \n",
    "    #adding songs to dictionary to be put into dataframe\n",
    "    song_dict['image'].append(song['track']['album']['images'][0]['url'])\n",
    "    song_dict['song_name'].append(song[\"track\"][\"name\"])\n",
    "    song_dict['album_name'].append(song[\"track\"][\"album\"][\"name\"])\n",
    "    song_dict['artist_name'].append(song[\"track\"][\"artists\"][0][\"name\"])\n",
    "    song_dict['track_id'].append(song[\"track\"][\"id\"])\n",
    "    song_dict['played_at'].append(readable_time)\n",
    "    song_dict['valence'].append(valence)\n",
    "    song_dict['danceability'].append(dance)\n",
    "    song_dict['energy'].append(energy)\n",
    "    song_dict['mood_avg'].append(round(avg, 3))\n",
    "\n",
    "    \n",
    "#     print(\"-----------\",count,\"---------------\")\n",
    "#     #BASIC INFO\n",
    "#     print(\"Song: \\t\\t\", song[\"track\"][\"name\"], \" by \", song[\"track\"][\"artists\"][0][\"name\"])\n",
    "#     print(\"ID: \\t\\t\", song[\"track\"][\"id\"])\n",
    "#     print(\"Played at: \\t\", song[\"played_at\"], \"\\n\")\n",
    "    \n",
    "#     #MOOD INDEXES\n",
    "#     #weight ->  valence - 0.5\n",
    "#     #           danceability - 0.3\n",
    "#     #           energy - 0.2\n",
    "#     print(\"Valence: \\t\\t\", features[0][\"valence\"])\n",
    "#     print(\"Danceability: \\t\\t\", features[0][\"danceability\"])\n",
    "#     print(\"Energy: \\t\\t\", features[0][\"energy\"])\n",
    "#     print(\"GRAND TOTAL: \\t\\t\", round(avg, 3))\n",
    "    \n",
    "# avg_mood = sum(mood_avgs)/len(mood_avgs)\n",
    "# print(\"\\n$$$$$$$$$$$$$$$$$$$$$$$$$$$$$$$$$$$$\")\n",
    "# print(\"Average Mood Index: \\t\", round(avg_mood, 3))\n",
    "# print(\"Num Songs Played: \\t\", len(mood_avgs))\n",
    "\n",
    "#add spotify data to csv\n",
    "df = pd.DataFrame.from_dict(song_dict,orient='index').transpose()\n",
    "filename = \"daily-data/\" + datetime.now().strftime('%Y-%m-%d/')[:10] + \".csv\"\n",
    "df.to_csv(filename, mode = 'a', header = False, index = False)\n",
    "\n",
    "    \n",
    "    "
   ]
  },
  {
   "cell_type": "code",
   "execution_count": 98,
   "metadata": {},
   "outputs": [
    {
     "name": "stdout",
     "output_type": "stream",
     "text": [
      "19:10:21.805786\n"
     ]
    }
   ],
   "source": [
    "print(datetime.time(datetime.now()))"
   ]
  },
  {
   "cell_type": "code",
   "execution_count": 121,
   "metadata": {},
   "outputs": [
    {
     "data": {
      "text/plain": [
       "'https://i.scdn.co/image/ab67616d0000b273ea9bbdf9f1433e68c7dffbad'"
      ]
     },
     "execution_count": 121,
     "metadata": {},
     "output_type": "execute_result"
    }
   ],
   "source": [
    "recent_songs['items'][3]['track']['album']['images'][0]['url']"
   ]
  },
  {
   "cell_type": "code",
   "execution_count": null,
   "metadata": {},
   "outputs": [],
   "source": []
  }
 ],
 "metadata": {
  "kernelspec": {
   "display_name": "Python 3",
   "language": "python",
   "name": "python3"
  },
  "language_info": {
   "codemirror_mode": {
    "name": "ipython",
    "version": 3
   },
   "file_extension": ".py",
   "mimetype": "text/x-python",
   "name": "python",
   "nbconvert_exporter": "python",
   "pygments_lexer": "ipython3",
   "version": "3.7.6"
  }
 },
 "nbformat": 4,
 "nbformat_minor": 4
}
