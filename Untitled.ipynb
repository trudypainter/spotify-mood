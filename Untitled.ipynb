{
 "cells": [
  {
   "cell_type": "code",
   "execution_count": null,
   "metadata": {},
   "outputs": [],
   "source": [
    "# there exists an array of n integers (length n+1)\n",
    "# [1, 2, 2, 3, 4]\n",
    "\n",
    "# [1,2,3,4,5,6,7,7]\n",
    "\n",
    "# create a set of numbers already in the list\n",
    "number_set = set()\n",
    "\n",
    "# iterate over list and try to add element to list\n",
    "for index, element in enumerate(number_list):\n",
    "    \n",
    "    for \n",
    "    "
   ]
  }
 ],
 "metadata": {
  "kernelspec": {
   "display_name": "Python 3",
   "language": "python",
   "name": "python3"
  },
  "language_info": {
   "codemirror_mode": {
    "name": "ipython",
    "version": 3
   },
   "file_extension": ".py",
   "mimetype": "text/x-python",
   "name": "python",
   "nbconvert_exporter": "python",
   "pygments_lexer": "ipython3",
   "version": "3.7.6"
  }
 },
 "nbformat": 4,
 "nbformat_minor": 4
}
